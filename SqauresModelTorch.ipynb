{
  "cells": [
    {
      "cell_type": "markdown",
      "metadata": {
        "id": "EXfAB7NKS2C8"
      },
      "source": [
        "# Import modules"
      ]
    },
    {
      "cell_type": "code",
      "execution_count": 5,
      "metadata": {
        "colab": {
          "base_uri": "https://localhost:8080/"
        },
        "id": "c3JWve19Sm5Z",
        "outputId": "f2b9a1fc-0ac7-44ff-f61d-95256375e766"
      },
      "outputs": [],
      "source": [
        "%matplotlib inline\n",
        "import matplotlib.pyplot as plt\n",
        "import os, numpy, torch\n",
        "import numpy as np\n",
        "from tqdm import trange\n",
        "import torch.nn as nn\n",
        "import torch.nn.functional as F\n",
        "from sklearn.model_selection import train_test_split\n",
        "np.set_printoptions(suppress=True)\n",
        "torch.set_printoptions(sci_mode=False)"
      ]
    },
    {
      "cell_type": "markdown",
      "metadata": {
        "id": "Jo8qFvYGS33u"
      },
      "source": [
        "# Collect/Create Data"
      ]
    },
    {
      "cell_type": "code",
      "execution_count": null,
      "metadata": {
        "colab": {
          "base_uri": "https://localhost:8080/"
        },
        "id": "SfudN0MPSuPd",
        "outputId": "344f1a66-b0b4-42c7-a8a9-5a6296d871f2"
      },
      "outputs": [
        {
          "name": "stderr",
          "output_type": "stream",
          "text": [
            "100%|██████████| 1000/1000 [00:00<00:00, 52418.32it/s]\n"
          ]
        }
      ],
      "source": [
        "sides = []\n",
        "areas = []\n",
        "\n",
        "for i in (t := trange(1000)):\n",
        "    samp = np.random.randint(0, 50)\n",
        "    squared = samp*samp\n",
        "    sides.append([samp])\n",
        "    areas.append([squared])"
      ]
    },
    {
      "cell_type": "markdown",
      "metadata": {
        "id": "zByuSWtLS4T2"
      },
      "source": [
        "# Prep Data"
      ]
    },
    {
      "cell_type": "code",
      "execution_count": null,
      "metadata": {
        "id": "t2dIlH1GTaQl"
      },
      "outputs": [],
      "source": [
        "# Split Data\n",
        "split_ratio = 0.8\n",
        "split_index = int(len(sides) * split_ratio)\n",
        "\n",
        "# Convert the data to PyTorch tensors\n",
        "X = torch.tensor(sides, dtype=torch.float32).view(-1, 1)\n",
        "Y = torch.tensor(areas, dtype=torch.float32).view(-1, 1)\n",
        "X_train, X_test, Y_train, Y_test = train_test_split(X, Y, test_size=0.2, random_state=42)"
      ]
    },
    {
      "cell_type": "markdown",
      "metadata": {
        "id": "ZDe-4WjcS4j_"
      },
      "source": [
        "# Create Model"
      ]
    },
    {
      "cell_type": "code",
      "execution_count": null,
      "metadata": {
        "id": "2agBicjASylW"
      },
      "outputs": [],
      "source": [
        "class Net(torch.nn.Module):\n",
        "  def __init__(self):\n",
        "    super(Net, self).__init__()\n",
        "    self.l1 = nn.Linear(1, 1, bias=False)\n",
        "\n",
        "  def forward(self, x):\n",
        "    x = F.relu(self.l1(x))\n",
        "    return x"
      ]
    },
    {
      "cell_type": "markdown",
      "metadata": {
        "id": "ZpilAgJSbZg_"
      },
      "source": [
        "# Train Model"
      ]
    },
    {
      "cell_type": "code",
      "execution_count": null,
      "metadata": {
        "colab": {
          "base_uri": "https://localhost:8080/"
        },
        "id": "SfHSiGF_bbRZ",
        "outputId": "bb35ce90-ef65-41c2-92be-ef04b46b27ef"
      },
      "outputs": [
        {
          "name": "stdout",
          "output_type": "stream",
          "text": [
            "Epoch [100/1000], Loss: 1113020.0000\n",
            "Epoch [200/1000], Loss: 1113020.0000\n",
            "Epoch [300/1000], Loss: 1113020.0000\n",
            "Epoch [400/1000], Loss: 1113020.0000\n",
            "Epoch [500/1000], Loss: 1113020.0000\n",
            "Epoch [600/1000], Loss: 1113020.0000\n",
            "Epoch [700/1000], Loss: 1113020.0000\n",
            "Epoch [800/1000], Loss: 1113020.0000\n",
            "Epoch [900/1000], Loss: 1113020.0000\n",
            "Epoch [1000/1000], Loss: 1113020.0000\n",
            "Test Loss: 1429472.0000\n"
          ]
        }
      ],
      "source": [
        "model = Net()\n",
        "\n",
        "BS = 100\n",
        "epochs = 1000\n",
        "criterion = nn.MSELoss()\n",
        "optimizer = torch.optim.SGD(model.parameters(), lr=0.01, weight_decay=0.001)\n",
        "\n",
        "train_losses = []\n",
        "test_losses = []\n",
        "\n",
        "num_epochs = 1000\n",
        "for epoch in range(num_epochs):\n",
        "    predictions = model(X_train)\n",
        "\n",
        "    loss = criterion(predictions, Y_train)\n",
        "\n",
        "    optimizer.zero_grad()\n",
        "    loss.backward()\n",
        "    optimizer.step()\n",
        "\n",
        "    train_losses.append(loss.item())\n",
        "\n",
        "    if (epoch + 1) % 100 == 0:\n",
        "        print(f'Epoch [{epoch+1}/{num_epochs}], Loss: {loss.item():.4f}')\n",
        "\n",
        "    if (epoch + 1) % 50 == 0:\n",
        "        with torch.no_grad():\n",
        "            test_predictions = model(X_test)\n",
        "            test_loss = criterion(test_predictions, Y_test)\n",
        "            test_losses.append(test_loss.item())\n",
        "\n",
        "print(f'Test Loss: {test_losses[-1]:.4f}')"
      ]
    },
    {
      "cell_type": "code",
      "execution_count": null,
      "metadata": {
        "colab": {
          "base_uri": "https://localhost:8080/",
          "height": 407
        },
        "id": "coAIXtWOdA_m",
        "outputId": "4b0d65e5-742f-465f-a5bf-43771b2aa904"
      },
      "outputs": [
        {
          "data": {
            "image/png": "[encoded data removed]",
            "text/plain": [
              "<Figure size 1000x400 with 2 Axes>"
            ]
          },
          "metadata": {},
          "output_type": "display_data"
        }
      ],
      "source": [
        "plt.figure(figsize=(10, 4))\n",
        "plt.subplot(1, 2, 1)\n",
        "plt.plot(train_losses)\n",
        "plt.title(\"train_losses\")\n",
        "plt.xlabel(\"Epoch\")\n",
        "\n",
        "plt.subplot(1, 2, 2)\n",
        "plt.plot(test_losses)\n",
        "plt.title(\"test_losses\")\n",
        "plt.xlabel(\"Epoch\")\n",
        "\n",
        "plt.tight_layout()\n",
        "plt.show()"
      ]
    },
    {
      "cell_type": "markdown",
      "metadata": {
        "id": "1C70wu3uTCA9"
      },
      "source": [
        "# Analyze Model"
      ]
    },
    {
      "cell_type": "code",
      "execution_count": null,
      "metadata": {
        "colab": {
          "base_uri": "https://localhost:8080/"
        },
        "id": "o9A0xsrEav3K",
        "outputId": "601effd7-fff6-49b2-9f91-b4256af4eda6"
      },
      "outputs": [
        {
          "name": "stdout",
          "output_type": "stream",
          "text": [
            "Test Loss: 1429472.0000\n"
          ]
        }
      ],
      "source": [
        "# Evaluate the model on the test set\n",
        "with torch.no_grad():\n",
        "    test_predictions = model(X_test)\n",
        "    test_loss = criterion(test_predictions, Y_test)\n",
        "\n",
        "print(f'Test Loss: {test_loss.item():.4f}')\n"
      ]
    }
  ],
  "metadata": {
    "colab": {
      "provenance": []
    },
    "kernelspec": {
      "display_name": "Python 3",
      "name": "python3"
    },
    "language_info": {
      "codemirror_mode": {
        "name": "ipython",
        "version": 3
      },
      "file_extension": ".py",
      "mimetype": "text/x-python",
      "name": "python",
      "nbconvert_exporter": "python",
      "pygments_lexer": "ipython3",
      "version": "3.10.4"
    }
  },
  "nbformat": 4,
  "nbformat_minor": 0
}
