{
  "cells": [
    {
      "cell_type": "code",
      "execution_count": 37,
      "metadata": {
        "id": "wkGUoLnG4lRG"
      },
      "outputs": [],
      "source": [
        "import random\n",
        "import matplotlib.pyplot as plt\n",
        "import matplotlib.patches as patches\n",
        "import math"
      ]
    },
    {
      "cell_type": "code",
      "execution_count": 38,
      "metadata": {
        "id": "84OsO1lv-Mb5"
      },
      "outputs": [],
      "source": [
        "def Convert_Range_To_Variables(x_range, y_range):\n",
        "\n",
        "  # Converting ranges to coordinate max/min's\n",
        "  x_min = -1*x_range\n",
        "  x_max = x_range\n",
        "  y_min = -1*y_range\n",
        "  y_max = y_range\n",
        "\n",
        "  # Return max/min's\n",
        "  return x_min, x_max, y_min, y_max"
      ]
    },
    {
      "cell_type": "code",
      "execution_count": 39,
      "metadata": {},
      "outputs": [],
      "source": [
        "def Calculate_Area(point1, point2):\n",
        "    side_length = math.sqrt((point2[0] - point1[0]) ** 2 + (point2[1] - point1[1]) ** 2)\n",
        "    \n",
        "    return side_length ** 2"
      ]
    },
    {
      "cell_type": "code",
      "execution_count": 40,
      "metadata": {
        "id": "B9_cD_-W6jB-"
      },
      "outputs": [],
      "source": [
        "def Generate_Square_Coordinates(min_side_length, max_side_length, x_range, y_range, num_squares):\n",
        "\n",
        "  # Intialize Square Coordinates Object\n",
        "  square_coordinates = []\n",
        "  square_areas = []\n",
        "  # Convert ranges\n",
        "  x_min, x_max, y_min, y_max = Convert_Range_To_Variables(x_range, y_range)\n",
        "\n",
        "  for _ in range(num_squares):\n",
        "      # Generate random coordinates for the top-left corner of the square\n",
        "      x = random.uniform(x_min, x_max - max_side_length)\n",
        "      y = random.uniform(y_min, y_max - max_side_length)\n",
        "\n",
        "      # Generate a random side length within the defined range\n",
        "      side_length = random.uniform(min_side_length, max_side_length)\n",
        "\n",
        "      # Calculate the coordinates for the other three corners\n",
        "      x1 = x + side_length\n",
        "      y1 = y\n",
        "      x2 = x\n",
        "      y2 = y + side_length\n",
        "      x3 = x1\n",
        "      y3 = y2\n",
        "\n",
        "      # Append the coordinates to the list\n",
        "      square_coordinates.append([(x, y), (x2, y2), (x3, y3), (x1, y1)])\n",
        "      square_areas.append([Calculate_Area([x,y], [x1,y1])])\n",
        "  # Return Square Coordinates Object\n",
        "  return square_coordinates, square_areas"
      ]
    },
    {
      "cell_type": "code",
      "execution_count": 41,
      "metadata": {
        "id": "63GKSPX56jMn"
      },
      "outputs": [],
      "source": [
        "def Print_Squares(square_coordinates, square_areas):\n",
        "\n",
        "  # Print the list of square coordinates\n",
        "  for i, square in enumerate(square_coordinates):\n",
        "      print(f\"Square {i+1} with area {square_areas[i]}: {square}\")"
      ]
    },
    {
      "cell_type": "code",
      "execution_count": 42,
      "metadata": {
        "id": "hebVYrSS6jUq"
      },
      "outputs": [],
      "source": [
        "def Plot_Square(square_coordinates, square_areas, square_index, x_range, y_range):\n",
        "\n",
        "  # Convert Ranges\n",
        "  x_min, x_max, y_min, y_max = Convert_Range_To_Variables(x_range, y_range)\n",
        "\n",
        "  # Plot the a square\n",
        "  fig, ax = plt.subplots()\n",
        "  ax.add_patch(patches.Polygon(square_coordinates[square_index], closed=True, fill=True))\n",
        "\n",
        "  # Set axis limits\n",
        "  ax.set_xlim(x_min, x_max)\n",
        "  ax.set_ylim(y_min, y_max)\n",
        "  plt.title(square_areas[square_index])\n",
        "  # Show the plot\n",
        "  plt.show()"
      ]
    },
    {
      "cell_type": "code",
      "execution_count": 43,
      "metadata": {
        "id": "RV3jLhwK9MYJ"
      },
      "outputs": [],
      "source": [
        "# Define the range of coordinates (xmin, ymin, xmax, ymax)\n",
        "x_range = 100\n",
        "y_range = 100\n",
        "\n",
        "# Define the size of the squares (side length)\n",
        "min_side_length = 1\n",
        "max_side_length = 50\n",
        "\n",
        "# Define the number of squares you want to generate\n",
        "num_squares = 100"
      ]
    },
    {
      "cell_type": "code",
      "execution_count": 44,
      "metadata": {
        "id": "qTYyxoGs9MMc"
      },
      "outputs": [],
      "source": [
        "# Generate Square Coordinates Object\n",
        "square_coordinates, square_areas = Generate_Square_Coordinates(\n",
        "    min_side_length, max_side_length, x_range, y_range, num_squares)"
      ]
    },
    {
      "cell_type": "code",
      "execution_count": 45,
      "metadata": {
        "colab": {
          "base_uri": "https://localhost:8080/"
        },
        "id": "8RaxuTpM9u7U",
        "outputId": "0e1a46b9-cf99-4ac1-db23-6c05e982d71a"
      },
      "outputs": [],
      "source": [
        "# Print all squares from Square Coordinates Object\n",
        "# Print_Squares(square_coordinates, square_areas)"
      ]
    },
    {
      "cell_type": "code",
      "execution_count": 46,
      "metadata": {
        "colab": {
          "base_uri": "https://localhost:8080/",
          "height": 435
        },
        "id": "_LScqIEb9xXe",
        "outputId": "563845f2-9191-476a-f4db-25e50df4dbf7"
      },
      "outputs": [
        {
          "data": {
            "image/png": "[encoded data removed]",
            "text/plain": [
              "<Figure size 640x480 with 1 Axes>"
            ]
          },
          "metadata": {},
          "output_type": "display_data"
        }
      ],
      "source": [
        "# Plot a specific square from Squares Coordinates Obejct\n",
        "Plot_Square(square_coordinates, square_areas, 5, x_range, y_range)"
      ]
    }
  ],
  "metadata": {
    "colab": {
      "provenance": []
    },
    "kernelspec": {
      "display_name": "Python 3",
      "name": "python3"
    },
    "language_info": {
      "codemirror_mode": {
        "name": "ipython",
        "version": 3
      },
      "file_extension": ".py",
      "mimetype": "text/x-python",
      "name": "python",
      "nbconvert_exporter": "python",
      "pygments_lexer": "ipython3",
      "version": "3.10.4"
    }
  },
  "nbformat": 4,
  "nbformat_minor": 0
}
