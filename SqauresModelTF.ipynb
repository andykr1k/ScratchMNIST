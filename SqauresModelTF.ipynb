{
  "cells": [
    {
      "cell_type": "code",
      "execution_count": 232,
      "metadata": {
        "id": "TQs9g9M7ewjq"
      },
      "outputs": [],
      "source": [
        "import tensorflow as tf\n",
        "from tensorflow import keras\n",
        "from keras.layers import Dense\n",
        "from tqdm import trange\n",
        "import numpy as np\n",
        "import random\n",
        "import matplotlib.pyplot as plt\n",
        "from sklearn.preprocessing import StandardScaler"
      ]
    },
    {
      "cell_type": "code",
      "execution_count": 233,
      "metadata": {
        "colab": {
          "base_uri": "https://localhost:8080/"
        },
        "id": "elsdwgfyeoln",
        "outputId": "7c6cf1d5-2580-4845-b9f7-c82fbf324104"
      },
      "outputs": [
        {
          "name": "stderr",
          "output_type": "stream",
          "text": [
            "100%|██████████| 10000/10000 [00:00<00:00, 1640964.01it/s]\n"
          ]
        }
      ],
      "source": [
        "sides = []\n",
        "areas = []\n",
        "\n",
        "for _ in trange(10000):\n",
        "    side_length = random.uniform(1, 500)\n",
        "    sides.append(int(side_length))\n",
        "    areas.append(int(side_length**2))\n",
        "\n",
        "split_index = int(0.8 * len(sides))\n",
        "\n",
        "sides_train, areas_train = sides[:split_index], areas[:split_index]\n",
        "\n",
        "sides_test, areas_test = sides[split_index:], areas[split_index:]"
      ]
    },
    {
      "cell_type": "code",
      "execution_count": 234,
      "metadata": {
        "id": "wc5l3xCcfWMI"
      },
      "outputs": [],
      "source": [
        "model = keras.Sequential([\n",
        "    Dense(units=32, activation='relu', input_shape=(1,)),\n",
        "    Dense(units=1)\n",
        "])\n",
        "\n",
        "model.compile(optimizer='adam', loss='mean_squared_error',  metrics=['mae'])"
      ]
    },
    {
      "cell_type": "code",
      "execution_count": 235,
      "metadata": {
        "colab": {
          "base_uri": "https://localhost:8080/"
        },
        "id": "7hTsU_Sxe42q",
        "outputId": "62814904-5c84-4785-8d29-7f899b8854d2"
      },
      "outputs": [
        {
          "name": "stdout",
          "output_type": "stream",
          "text": [
            "Epoch 1/20\n",
            "250/250 [==============================] - 0s 395us/step - loss: 12335497216.0000 - mae: 82496.8203\n",
            "Epoch 2/20\n",
            "250/250 [==============================] - 0s 344us/step - loss: 12139172864.0000 - mae: 81701.2578\n",
            "Epoch 3/20\n",
            "250/250 [==============================] - 0s 383us/step - loss: 11757655040.0000 - mae: 80134.4766\n",
            "Epoch 4/20\n",
            "250/250 [==============================] - 0s 358us/step - loss: 11168787456.0000 - mae: 77673.9844\n",
            "Epoch 5/20\n",
            "250/250 [==============================] - 0s 357us/step - loss: 10385602560.0000 - mae: 74290.9141\n",
            "Epoch 6/20\n",
            "250/250 [==============================] - 0s 344us/step - loss: 9471764480.0000 - mae: 70218.0000\n",
            "Epoch 7/20\n",
            "250/250 [==============================] - 0s 345us/step - loss: 8485338624.0000 - mae: 65632.4531\n",
            "Epoch 8/20\n",
            "250/250 [==============================] - 0s 341us/step - loss: 7472417280.0000 - mae: 60722.4297\n",
            "Epoch 9/20\n",
            "250/250 [==============================] - 0s 349us/step - loss: 6468682240.0000 - mae: 55659.7148\n",
            "Epoch 10/20\n",
            "250/250 [==============================] - 0s 350us/step - loss: 5504919552.0000 - mae: 50629.8086\n",
            "Epoch 11/20\n",
            "250/250 [==============================] - 0s 343us/step - loss: 4604962304.0000 - mae: 45749.0078\n",
            "Epoch 12/20\n",
            "250/250 [==============================] - 0s 344us/step - loss: 3789372928.0000 - mae: 41181.7656\n",
            "Epoch 13/20\n",
            "250/250 [==============================] - 0s 342us/step - loss: 3072932096.0000 - mae: 37109.6719\n",
            "Epoch 14/20\n",
            "250/250 [==============================] - 0s 341us/step - loss: 2464309248.0000 - mae: 33575.1680\n",
            "Epoch 15/20\n",
            "250/250 [==============================] - 0s 339us/step - loss: 1965323392.0000 - mae: 30657.2383\n",
            "Epoch 16/20\n",
            "250/250 [==============================] - 0s 343us/step - loss: 1573828224.0000 - mae: 28365.9160\n",
            "Epoch 17/20\n",
            "250/250 [==============================] - 0s 342us/step - loss: 1282655232.0000 - mae: 26722.2598\n",
            "Epoch 18/20\n",
            "250/250 [==============================] - 0s 343us/step - loss: 1078513536.0000 - mae: 25618.4180\n",
            "Epoch 19/20\n",
            "250/250 [==============================] - 0s 347us/step - loss: 945201088.0000 - mae: 24963.3594\n",
            "Epoch 20/20\n",
            "250/250 [==============================] - 0s 346us/step - loss: 865437568.0000 - mae: 24673.7754\n"
          ]
        }
      ],
      "source": [
        "epochs = 20\n",
        "history = model.fit(sides_train, areas_train, epochs=epochs)"
      ]
    },
    {
      "cell_type": "code",
      "execution_count": 236,
      "metadata": {},
      "outputs": [
        {
          "name": "stdout",
          "output_type": "stream",
          "text": [
            "63/63 - 0s - loss: 851954176.0000 - mae: 24582.9727 - 70ms/epoch - 1ms/step\n"
          ]
        },
        {
          "data": {
            "text/plain": [
              "[851954176.0, 24582.97265625]"
            ]
          },
          "execution_count": 236,
          "metadata": {},
          "output_type": "execute_result"
        }
      ],
      "source": [
        "model.evaluate(sides_test, areas_test, verbose=2)"
      ]
    },
    {
      "cell_type": "code",
      "execution_count": 237,
      "metadata": {},
      "outputs": [
        {
          "data": {
            "image/png": "[encoded data removed]",
            "text/plain": [
              "<Figure size 640x480 with 1 Axes>"
            ]
          },
          "metadata": {},
          "output_type": "display_data"
        }
      ],
      "source": [
        "plt.plot(history.history['loss'], label='Training Loss')\n",
        "plt.plot(history.history['mae'], label='Training MAE')\n",
        "plt.xlabel('Epoch')\n",
        "plt.ylabel('Metric Value')\n",
        "plt.legend()\n",
        "plt.show()"
      ]
    },
    {
      "cell_type": "code",
      "execution_count": 238,
      "metadata": {
        "colab": {
          "base_uri": "https://localhost:8080/"
        },
        "id": "9uD5Qmfbe-TW",
        "outputId": "ab83c07f-8553-40c3-be31-40aa720286d0"
      },
      "outputs": [
        {
          "name": "stdout",
          "output_type": "stream",
          "text": [
            "1/1 [==============================] - 0s 33ms/step\n",
            "Predicted Area for Side Length 20: 7274.8711\n"
          ]
        }
      ],
      "source": [
        "num = 20\n",
        "test_side_length = [num]\n",
        "predicted_area = model.predict(test_side_length)\n",
        "print(f'Predicted Area for Side Length {num}: {predicted_area[0][0]:.4f}')"
      ]
    }
  ],
  "metadata": {
    "colab": {
      "provenance": []
    },
    "kernelspec": {
      "display_name": "Python 3",
      "name": "python3"
    },
    "language_info": {
      "codemirror_mode": {
        "name": "ipython",
        "version": 3
      },
      "file_extension": ".py",
      "mimetype": "text/x-python",
      "name": "python",
      "nbconvert_exporter": "python",
      "pygments_lexer": "ipython3",
      "version": "3.10.4"
    }
  },
  "nbformat": 4,
  "nbformat_minor": 0
}
